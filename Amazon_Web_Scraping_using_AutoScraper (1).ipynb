{
  "nbformat": 4,
  "nbformat_minor": 0,
  "metadata": {
    "colab": {
      "name": "Amazon_Web_Scraping_using_AutoScraper.ipynb",
      "provenance": [],
      "collapsed_sections": []
    },
    "kernelspec": {
      "name": "python3",
      "display_name": "Python 3"
    },
    "language_info": {
      "name": "python"
    }
  },
  "cells": [
    {
      "cell_type": "code",
      "metadata": {
        "colab": {
          "base_uri": "https://localhost:8080/"
        },
        "id": "HV8H3K2qTrQ4",
        "outputId": "3aab4ff3-1ac8-49d3-a2d5-1d3d9932afab"
      },
      "source": [
        "!pip install autoscraper\n"
      ],
      "execution_count": 1,
      "outputs": [
        {
          "output_type": "stream",
          "name": "stdout",
          "text": [
            "Collecting autoscraper\n",
            "  Downloading autoscraper-1.1.12-py3-none-any.whl (10 kB)\n",
            "Requirement already satisfied: bs4 in /usr/local/lib/python3.7/dist-packages (from autoscraper) (0.0.1)\n",
            "Requirement already satisfied: lxml in /usr/local/lib/python3.7/dist-packages (from autoscraper) (4.2.6)\n",
            "Requirement already satisfied: requests in /usr/local/lib/python3.7/dist-packages (from autoscraper) (2.23.0)\n",
            "Requirement already satisfied: beautifulsoup4 in /usr/local/lib/python3.7/dist-packages (from bs4->autoscraper) (4.6.3)\n",
            "Requirement already satisfied: certifi>=2017.4.17 in /usr/local/lib/python3.7/dist-packages (from requests->autoscraper) (2021.5.30)\n",
            "Requirement already satisfied: urllib3!=1.25.0,!=1.25.1,<1.26,>=1.21.1 in /usr/local/lib/python3.7/dist-packages (from requests->autoscraper) (1.24.3)\n",
            "Requirement already satisfied: chardet<4,>=3.0.2 in /usr/local/lib/python3.7/dist-packages (from requests->autoscraper) (3.0.4)\n",
            "Requirement already satisfied: idna<3,>=2.5 in /usr/local/lib/python3.7/dist-packages (from requests->autoscraper) (2.10)\n",
            "Installing collected packages: autoscraper\n",
            "Successfully installed autoscraper-1.1.12\n"
          ]
        }
      ]
    },
    {
      "cell_type": "code",
      "metadata": {
        "colab": {
          "base_uri": "https://localhost:8080/"
        },
        "id": "6j4mCajWUA2s",
        "outputId": "1b72abec-6823-418b-c12d-d252729696c0"
      },
      "source": [
        "from autoscraper import AutoScraper\n",
        "amazon_url = 'https://www.amazon.in/s?k=iphone'\n",
        "wanted_list = ['₹40,999','Apple iPhone 11 (64GB) - White']\n",
        "\n",
        "scraper=AutoScraper()\n",
        "result=scraper.build(amazon_url,wanted_list)\n",
        "print(result)"
      ],
      "execution_count": 2,
      "outputs": [
        {
          "output_type": "stream",
          "name": "stdout",
          "text": [
            "['₹40,999', '₹49,900', '₹32,999', '₹47,900', '₹45,999', '₹54,900', '₹41,999', '₹46,999', '₹70,900', '₹84,900', '₹37,999', '₹52,900', 'Apple iPhone 11 (64GB) - Black', 'Apple iPhone 11 (64GB) - White', 'Apple iPhone XR (64GB) - Black', 'Apple iPhone XR (64GB) - White', 'Apple iPhone 11 (128GB) - White', 'Apple iPhone 11 (64GB) - Green', 'Apple iPhone 11 (128GB) - Black', 'Apple iPhone 11 (128GB) - Green', 'Apple iPhone 11 (128GB) - Purple', 'Apple iPhone 11 (64GB) - (Product) RED', 'Apple iPhone 11 (128GB) - (Product) RED', 'New Apple iPhone 12 (128GB) - Blue', 'New Apple iPhone 12 (128GB) - Black', 'Apple iPhone XR (128GB) - White', 'Apple iPhone XR (128GB) - Black']\n"
          ]
        }
      ]
    },
    {
      "cell_type": "code",
      "metadata": {
        "colab": {
          "base_uri": "https://localhost:8080/"
        },
        "id": "CAA-8Tl_UA5j",
        "outputId": "d5725903-0c83-42cf-ab48-608a8d01e14a"
      },
      "source": [
        "print(scraper.get_result_similar(amazon_url,grouped=True))"
      ],
      "execution_count": 3,
      "outputs": [
        {
          "output_type": "stream",
          "name": "stdout",
          "text": [
            "{'rule_3b3u': ['₹40,999', '₹49,900', '₹40,999', '₹49,900', '₹32,999', '₹47,900', '₹32,999', '₹47,900', '₹45,999', '₹54,900', '₹41,999', '₹49,900', '₹45,999', '₹54,900', '₹45,999', '₹54,900', '₹46,999', '₹54,900', '₹40,999', '₹49,900', '₹45,999', '₹54,900', '₹70,900', '₹84,900', '₹49,900', '₹64,300', '₹70,900', '₹84,900', '₹37,999', '₹52,900'], 'rule_q67s': ['₹40,999', '₹49,900', '₹40,999', '₹49,900', '₹32,999', '₹47,900', '₹32,999', '₹47,900', '₹45,999', '₹54,900', '₹41,999', '₹49,900', '₹45,999', '₹54,900', '₹45,999', '₹54,900', '₹46,999', '₹54,900', '₹40,999', '₹49,900', '₹45,999', '₹54,900', '₹70,900', '₹84,900', '₹49,900', '₹64,300', '₹70,900', '₹84,900', '₹37,999', '₹52,900'], 'rule_mbln': ['₹40,999', '₹49,900', '₹40,999', '₹49,900', '₹32,999', '₹47,900', '₹32,999', '₹47,900', '₹45,999', '₹54,900', '₹41,999', '₹49,900', '₹45,999', '₹54,900', '₹45,999', '₹54,900', '₹46,999', '₹54,900', '₹40,999', '₹49,900', '₹45,999', '₹54,900', '₹70,900', '₹84,900', '₹49,900', '₹64,300', '₹70,900', '₹84,900', '₹37,999', '₹52,900'], 'rule_zotj': ['₹40,999', '₹49,900', '₹40,999', '₹49,900', '₹32,999', '₹47,900', '₹32,999', '₹47,900', '₹45,999', '₹54,900', '₹41,999', '₹49,900', '₹45,999', '₹54,900', '₹45,999', '₹54,900', '₹46,999', '₹54,900', '₹40,999', '₹49,900', '₹45,999', '₹54,900', '₹70,900', '₹84,900', '₹49,900', '₹64,300', '₹70,900', '₹84,900', '₹37,999', '₹52,900'], 'rule_oqtt': ['₹40,999', '₹49,900', '₹40,999', '₹49,900', '₹32,999', '₹47,900', '₹32,999', '₹47,900', '₹45,999', '₹54,900', '₹41,999', '₹49,900', '₹45,999', '₹54,900', '₹45,999', '₹54,900', '₹46,999', '₹54,900', '₹40,999', '₹49,900', '₹45,999', '₹54,900', '₹70,900', '₹84,900', '₹49,900', '₹64,300', '₹70,900', '₹84,900', '₹37,999', '₹52,900'], 'rule_iip8': ['₹40,999', '₹49,900', '₹40,999', '₹49,900', '₹32,999', '₹47,900', '₹32,999', '₹47,900', '₹45,999', '₹54,900', '₹41,999', '₹49,900', '₹45,999', '₹54,900', '₹45,999', '₹54,900', '₹46,999', '₹54,900', '₹40,999', '₹49,900', '₹45,999', '₹54,900', '₹70,900', '₹84,900', '₹49,900', '₹64,300', '₹70,900', '₹84,900', '₹37,999', '₹52,900'], 'rule_5w42': ['Apple iPhone 11 (64GB) - Black', 'Apple iPhone 11 (64GB) - White', 'Apple iPhone XR (64GB) - Black', 'Apple iPhone XR (64GB) - White', 'Apple iPhone 11 (128GB) - White', 'Apple iPhone 11 (64GB) - Green', 'Apple iPhone 11 (128GB) - Black', 'Apple iPhone 11 (128GB) - Green', 'Apple iPhone 11 (128GB) - Purple', 'Apple iPhone 11 (64GB) - (Product) RED', 'Apple iPhone 11 (128GB) - (Product) RED', 'New Apple iPhone 12 (128GB) - Blue', 'Apple iPhone 11 (64GB) - White (includes EarPods, power adapter)', 'New Apple iPhone 12 (128GB) - Black', 'Apple iPhone XR (128GB) - White'], 'rule_h6g0': ['Apple iPhone 11 (64GB) - Black', 'Apple iPhone 11 (64GB) - White', 'Apple iPhone XR (64GB) - Black', 'Apple iPhone XR (64GB) - White', 'Apple iPhone 11 (128GB) - White', 'Apple iPhone 11 (64GB) - Green', 'Apple iPhone 11 (128GB) - Black', 'Apple iPhone 11 (128GB) - Green', 'Apple iPhone 11 (128GB) - Purple', 'Apple iPhone 11 (64GB) - (Product) RED', 'Apple iPhone 11 (128GB) - (Product) RED', 'New Apple iPhone 12 (128GB) - Blue', 'Apple iPhone 11 (64GB) - White (includes EarPods, power adapter)', 'New Apple iPhone 12 (128GB) - Black', 'Apple iPhone XR (128GB) - White'], 'rule_569j': ['Apple iPhone 11 (64GB) - Black', 'Apple iPhone 11 (64GB) - White', 'Apple iPhone 11 (128GB) - Green']}\n"
          ]
        }
      ]
    },
    {
      "cell_type": "code",
      "metadata": {
        "id": "tGqfU9zJUA8e"
      },
      "source": [
        "scraper.set_rule_aliases({'rule_5w42':'Title' ,'rule_3b3u' : 'Price'})\n",
        "scraper.keep_rules(['rule_5w42','rule_3b3u'])               #KEEP THIS RULE FOR OTHER PAGES ALSO\n",
        "scraper.save('Amazon-search')"
      ],
      "execution_count": 4,
      "outputs": []
    },
    {
      "cell_type": "code",
      "metadata": {
        "id": "2hvZnquEUA_S"
      },
      "source": [
        "results=scraper.get_result_similar('https://www.amazon.in/s?k=samsung+phones&ref=nb_sb_noss_2',group_by_alias=True)     # Results of Samsung Mobiles"
      ],
      "execution_count": 9,
      "outputs": []
    },
    {
      "cell_type": "code",
      "metadata": {
        "colab": {
          "base_uri": "https://localhost:8080/"
        },
        "id": "Urtur9wCUBBj",
        "outputId": "3d80e7ee-c3c4-4449-85b2-49a2f804aefc"
      },
      "source": [
        "results['Title']"
      ],
      "execution_count": 10,
      "outputs": [
        {
          "output_type": "execute_result",
          "data": {
            "text/plain": [
              "['Samsung Galaxy M31 (Ocean Blue, 8GB RAM, 128GB Storage) 6 Months Free Screen Replacement for Prime',\n",
              " 'Samsung Galaxy M12 (Blue,4GB RAM, 64GB Storage) 6000 mAh with 8nm Processor | True 48 MP Quad Camera | 90Hz Refresh Rate',\n",
              " 'Samsung Galaxy M12 (Black,6GB RAM, 128GB Storage) 6 Months Free Screen Replacement for Prime',\n",
              " 'Samsung Galaxy M32 5G (Sky Blue, 8GB RAM, 128GB Storage)',\n",
              " 'Samsung Galaxy M21 2021 Edition (Arctic Blue, 4GB RAM, 64GB Storage) | FHD+ sAMOLED | 6 Months Free Screen Replacement for Prime (SM-M215GLBDINS)',\n",
              " 'Samsung Galaxy M12 (Black,4GB RAM, 64GB Storage) 6000 mAh with 8nm Processor | True 48 MP Quad Camera | 90Hz Refresh Rate',\n",
              " 'Samsung Galaxy M32 (Black, 4GB RAM, 64GB Storage) 6 Months Free Screen Replacement for Prime',\n",
              " 'Samsung Galaxy M51 (Celestial Black, 6GB RAM, 128GB Storage) 6 Months Free Screen Replacement for Prime',\n",
              " 'Samsung Galaxy M12 (White,4GB RAM, 64GB Storage) 6000 mAh with 8nm Processor | True 48 MP Quad Camera | 90Hz Refresh Rate',\n",
              " 'Samsung Galaxy M12 (Blue,6GB RAM, 128GB Storage) 6 Months Free Screen Replacement for Prime',\n",
              " 'Samsung Galaxy M51 (Electric Blue, 6GB RAM, 128GB Storage) 6 Months Free Screen Replacement for Prime',\n",
              " 'Samsung Galaxy M32 5G (Sky Blue, 6GB RAM, 128GB Storage)',\n",
              " 'Samsung Galaxy M32 (Light Blue, 6GB RAM, 128GB Storage) 6 Months Free Screen Replacement for Prime',\n",
              " 'Samsung Galaxy M32 5G (Slate Black, 8GB RAM, 128GB Storage)',\n",
              " 'Samsung Galaxy M32 (Black, 6GB RAM, 128GB Storage) 6 Months Free Screen Replacement for Prime',\n",
              " 'Samsung Galaxy M32 5G (Slate Black, 6GB RAM, 128GB Storage)']"
            ]
          },
          "metadata": {},
          "execution_count": 10
        }
      ]
    },
    {
      "cell_type": "code",
      "metadata": {
        "id": "lOdX8jXnUBGf",
        "colab": {
          "base_uri": "https://localhost:8080/"
        },
        "outputId": "b402b8af-90ef-4f1b-d8d7-102afa8370e9"
      },
      "source": [
        "results['Price']"
      ],
      "execution_count": 11,
      "outputs": [
        {
          "output_type": "execute_result",
          "data": {
            "text/plain": [
              "['₹16,999',\n",
              " '₹21,999',\n",
              " '₹10,299',\n",
              " '₹12,999',\n",
              " '₹12,299',\n",
              " '₹14,499',\n",
              " '₹18,999',\n",
              " '₹25,999',\n",
              " '₹12,499',\n",
              " '₹14,499',\n",
              " '₹10,299',\n",
              " '₹12,999',\n",
              " '₹12,999',\n",
              " '₹16,999',\n",
              " '₹19,999',\n",
              " '₹28,999',\n",
              " '₹10,299',\n",
              " '₹12,999',\n",
              " '₹12,299',\n",
              " '₹14,499',\n",
              " '₹19,999',\n",
              " '₹28,999',\n",
              " '₹16,999',\n",
              " '₹23,999',\n",
              " '₹14,999',\n",
              " '₹18,999',\n",
              " '₹18,999',\n",
              " '₹25,999',\n",
              " '₹14,999',\n",
              " '₹18,999',\n",
              " '₹16,999',\n",
              " '₹23,990']"
            ]
          },
          "metadata": {},
          "execution_count": 11
        }
      ]
    }
  ]
}